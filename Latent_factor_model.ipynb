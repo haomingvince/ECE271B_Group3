{
 "cells": [
  {
   "cell_type": "code",
   "execution_count": 1,
   "metadata": {},
   "outputs": [],
   "source": [
    "import numpy as np\n",
    "import pandas as pd\n",
    "import random\n",
    "import tensorflow as tf\n",
    "from tensorflow.keras import Model\n",
    "\n",
    "tf.enable_eager_execution()"
   ]
  },
  {
   "cell_type": "code",
   "execution_count": 2,
   "metadata": {},
   "outputs": [
    {
     "data": {
      "text/html": [
       "<div>\n",
       "<style scoped>\n",
       "    .dataframe tbody tr th:only-of-type {\n",
       "        vertical-align: middle;\n",
       "    }\n",
       "\n",
       "    .dataframe tbody tr th {\n",
       "        vertical-align: top;\n",
       "    }\n",
       "\n",
       "    .dataframe thead th {\n",
       "        text-align: right;\n",
       "    }\n",
       "</style>\n",
       "<table border=\"1\" class=\"dataframe\">\n",
       "  <thead>\n",
       "    <tr style=\"text-align: right;\">\n",
       "      <th></th>\n",
       "      <th>ProductId</th>\n",
       "      <th>UserId</th>\n",
       "      <th>Score</th>\n",
       "    </tr>\n",
       "  </thead>\n",
       "  <tbody>\n",
       "    <tr>\n",
       "      <th>0</th>\n",
       "      <td>B001GVISJM</td>\n",
       "      <td>A18ECVX2RJ7HUE</td>\n",
       "      <td>4</td>\n",
       "    </tr>\n",
       "    <tr>\n",
       "      <th>1</th>\n",
       "      <td>B001GVISJM</td>\n",
       "      <td>A2MUGFV2TDQ47K</td>\n",
       "      <td>5</td>\n",
       "    </tr>\n",
       "    <tr>\n",
       "      <th>2</th>\n",
       "      <td>B001GVISJM</td>\n",
       "      <td>A2A9X58G2GTBLP</td>\n",
       "      <td>5</td>\n",
       "    </tr>\n",
       "    <tr>\n",
       "      <th>3</th>\n",
       "      <td>B001EO5QW8</td>\n",
       "      <td>A2G7B7FKP2O2PU</td>\n",
       "      <td>5</td>\n",
       "    </tr>\n",
       "    <tr>\n",
       "      <th>4</th>\n",
       "      <td>B001EO5QW8</td>\n",
       "      <td>AQLL2R1PPR46X</td>\n",
       "      <td>5</td>\n",
       "    </tr>\n",
       "  </tbody>\n",
       "</table>\n",
       "</div>"
      ],
      "text/plain": [
       "    ProductId          UserId  Score\n",
       "0  B001GVISJM  A18ECVX2RJ7HUE      4\n",
       "1  B001GVISJM  A2MUGFV2TDQ47K      5\n",
       "2  B001GVISJM  A2A9X58G2GTBLP      5\n",
       "3  B001EO5QW8  A2G7B7FKP2O2PU      5\n",
       "4  B001EO5QW8   AQLL2R1PPR46X      5"
      ]
     },
     "execution_count": 2,
     "metadata": {},
     "output_type": "execute_result"
    }
   ],
   "source": [
    "data_dir = 'clean2.csv'\n",
    "data = pd.read_csv(data_dir)\n",
    "data.pop('Unnamed: 0') \n",
    "data.head()"
   ]
  },
  {
   "cell_type": "code",
   "execution_count": 3,
   "metadata": {},
   "outputs": [],
   "source": [
    "userIDs = {}\n",
    "prodIDs = {}\n",
    "interactions = []\n",
    "\n",
    "for row in data.itertuples():\n",
    "    prod, user, score = row[1], row[2], row[3]\n",
    "    if not user in userIDs: userIDs[user] = len(userIDs)\n",
    "    if not prod in prodIDs: prodIDs[prod] = len(prodIDs)\n",
    "    interactions.append((prod, user, score))"
   ]
  },
  {
   "cell_type": "markdown",
   "metadata": {},
   "source": [
    "## Latent Factor Model"
   ]
  },
  {
   "cell_type": "code",
   "execution_count": 4,
   "metadata": {},
   "outputs": [],
   "source": [
    "# mean rating, just for initialization\n",
    "mu = sum(data['Score']) / len(data)"
   ]
  },
  {
   "cell_type": "code",
   "execution_count": 19,
   "metadata": {},
   "outputs": [],
   "source": [
    "# Gradient descent optimizer, experiment with learning rate\n",
    "optimizer = tf.keras.optimizers.Adam(0.0001)\n",
    "\n",
    "class LatentFactorModel(tf.keras.Model):\n",
    "    def __init__(self, mu, K, lamb):\n",
    "        super(LatentFactorModel, self).__init__()\n",
    "        # Initialize to average\n",
    "        self.alpha = tf.Variable(mu)\n",
    "        # Initialize to small random values\n",
    "        self.betaU = tf.Variable(tf.random.normal([len(userIDs)],stddev=0.001))\n",
    "        self.betaI = tf.Variable(tf.random.normal([len(prodIDs)],stddev=0.001))\n",
    "        self.gammaU = tf.Variable(tf.random.normal([len(userIDs),K],stddev=0.001))\n",
    "        self.gammaI = tf.Variable(tf.random.normal([len(prodIDs),K],stddev=0.001))\n",
    "        self.lamb = lamb\n",
    "\n",
    "    # Prediction for a single instance (useful for evaluation)\n",
    "    def predict(self, u, i):\n",
    "        p = self.alpha + self.betaU[u] + self.betaI[i] +\\\n",
    "            tf.tensordot(self.gammaU[u], self.gammaI[i], 1)\n",
    "        return p\n",
    "\n",
    "    # Regularizer\n",
    "    def reg(self):\n",
    "        return self.lamb * tf.reduce_sum(self.betaU**2) +\\\n",
    "                           tf.reduce_sum(self.betaI**2) +\\\n",
    "                           tf.reduce_sum(self.gammaU**2) +\\\n",
    "                           tf.reduce_sum(self.gammaI**2)\n",
    "    \n",
    "    # Prediction for a sample of instances\n",
    "    def predictSample(self, sampleU, sampleI):\n",
    "        u = tf.convert_to_tensor(sampleU, dtype=tf.int32)\n",
    "        i = tf.convert_to_tensor(sampleI, dtype=tf.int32)\n",
    "        beta_u = tf.nn.embedding_lookup(self.betaU, u)\n",
    "        beta_i = tf.nn.embedding_lookup(self.betaI, i)\n",
    "        gamma_u = tf.nn.embedding_lookup(self.gammaU, u)\n",
    "        gamma_i = tf.nn.embedding_lookup(self.gammaI, i)\n",
    "        pred = self.alpha + beta_u + beta_i +\\\n",
    "               tf.reduce_sum(tf.multiply(gamma_u, gamma_i), 1)\n",
    "        return pred\n",
    "    \n",
    "    # Loss\n",
    "    def call(self, sampleU, sampleI, sampleR):\n",
    "        pred = self.predictSample(sampleU, sampleI)\n",
    "        r = tf.convert_to_tensor(sampleR, dtype=tf.float32)\n",
    "        return tf.nn.l2_loss(pred - r) / len(sampleR)"
   ]
  },
  {
   "cell_type": "code",
   "execution_count": 20,
   "metadata": {},
   "outputs": [],
   "source": [
    "# Experiment with number of factors and regularization rate\n",
    "LFM = LatentFactorModel(mu, 5, 0.00001)"
   ]
  },
  {
   "cell_type": "code",
   "execution_count": 21,
   "metadata": {},
   "outputs": [],
   "source": [
    "def train(interactions):\n",
    "    Nsamples = 50000\n",
    "    with tf.GradientTape() as tape:\n",
    "        sampleU, sampleI, sampleR = [], [], []\n",
    "        for _ in range(Nsamples):\n",
    "            p,u,r = random.choice(interactions)\n",
    "            sampleI.append(prodIDs[p])\n",
    "            sampleU.append(userIDs[u])\n",
    "            sampleR.append(r)\n",
    "\n",
    "        loss = LFM(sampleU,sampleI,sampleR)\n",
    "        loss += LFM.reg()\n",
    "    gradients = tape.gradient(loss, LFM.trainable_variables)\n",
    "    optimizer.apply_gradients((grad, var) for\n",
    "                              (grad, var) in zip(gradients, LFM.trainable_variables)\n",
    "                              if grad is not None)\n",
    "    return loss.numpy()"
   ]
  },
  {
   "cell_type": "code",
   "execution_count": 22,
   "metadata": {},
   "outputs": [
    {
     "name": "stdout",
     "output_type": "stream",
     "text": [
      "iteration 0, objective = 0.8316188\n",
      "iteration 1, objective = 0.8109108\n",
      "iteration 2, objective = 0.7862687\n",
      "iteration 3, objective = 0.7666024\n",
      "iteration 4, objective = 0.7766284\n",
      "iteration 5, objective = 0.75968444\n",
      "iteration 6, objective = 0.74327374\n",
      "iteration 7, objective = 0.7366719\n",
      "iteration 8, objective = 0.73471266\n",
      "iteration 9, objective = 0.72575724\n",
      "iteration 10, objective = 0.7192815\n",
      "iteration 11, objective = 0.7164362\n",
      "iteration 12, objective = 0.7090113\n",
      "iteration 13, objective = 0.71427584\n",
      "iteration 14, objective = 0.72207594\n",
      "iteration 15, objective = 0.7163178\n",
      "iteration 16, objective = 0.70892876\n",
      "iteration 17, objective = 0.7065967\n",
      "iteration 18, objective = 0.71722126\n",
      "iteration 19, objective = 0.7037965\n"
     ]
    }
   ],
   "source": [
    "# 10 iterations of gradient descent\n",
    "for i in range(20):\n",
    "    obj = train(interactions)\n",
    "    print(\"iteration \" + str(i) + \", objective = \" + str(obj))"
   ]
  },
  {
   "cell_type": "code",
   "execution_count": 12,
   "metadata": {},
   "outputs": [
    {
     "data": {
      "text/plain": [
       "4.172021"
      ]
     },
     "execution_count": 12,
     "metadata": {},
     "output_type": "execute_result"
    }
   ],
   "source": [
    "LFM.predict(userIDs[interactions[0][1]], prodIDs[interactions[0][0]]).numpy()"
   ]
  },
  {
   "cell_type": "code",
   "execution_count": 13,
   "metadata": {},
   "outputs": [],
   "source": [
    "baseline = [mu for _ in range(len(data))]\n",
    "LFM_pred = [LFM.predict(userIDs[interactions[i][1]], prodIDs[interactions[i][0]]).numpy() for i in range(len(data))]"
   ]
  },
  {
   "cell_type": "code",
   "execution_count": 14,
   "metadata": {},
   "outputs": [],
   "source": [
    "labels = list(data['Score'])\n",
    "\n",
    "def MSE(predictions, labels):\n",
    "    differences = [(x-y)**2 for x,y in zip(predictions,labels)]\n",
    "    return sum(differences) / len(differences)"
   ]
  },
  {
   "cell_type": "code",
   "execution_count": 18,
   "metadata": {},
   "outputs": [
    {
     "name": "stdout",
     "output_type": "stream",
     "text": [
      "For baseline = 1.4022396214695851\n",
      "The MSE of rating estimation is 1.392199990352876\n"
     ]
    }
   ],
   "source": [
    "err_baseline = MSE(baseline, labels)\n",
    "err_LFM = MSE(LFM_pred, labels)\n",
    "print('For baseline =', err_baseline)\n",
    "print('The MSE of rating estimation is', err_LFM)"
   ]
  }
 ],
 "metadata": {
  "kernelspec": {
   "display_name": "Python 3",
   "language": "python",
   "name": "python3"
  },
  "language_info": {
   "codemirror_mode": {
    "name": "ipython",
    "version": 3
   },
   "file_extension": ".py",
   "mimetype": "text/x-python",
   "name": "python",
   "nbconvert_exporter": "python",
   "pygments_lexer": "ipython3",
   "version": "3.7.6"
  }
 },
 "nbformat": 4,
 "nbformat_minor": 4
}
